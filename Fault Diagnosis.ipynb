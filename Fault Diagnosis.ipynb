{
 "cells": [
  {
   "cell_type": "code",
   "execution_count": 364,
   "metadata": {},
   "outputs": [],
   "source": [
    "import numpy as np\n",
    "import pandas as pd\n",
    "import math\n",
    "df=pd.read_csv('projdata.csv',encoding = \"utf-8\",engine='python',sep=\",\")\n"
   ]
  },
  {
   "cell_type": "code",
   "execution_count": 365,
   "metadata": {},
   "outputs": [
    {
     "name": "stderr",
     "output_type": "stream",
     "text": [
      "C:\\Users\\GOGULAANAND\\Anaconda3\\lib\\site-packages\\ipykernel_launcher.py:2: FutureWarning: Method .as_matrix will be removed in a future version. Use .values instead.\n",
      "  \n"
     ]
    }
   ],
   "source": [
    "y=np.array(df[['Fault']])\n",
    "X=df.as_matrix(columns=df.columns[1:])\n",
    "X=X.T\n",
    "y=y.T"
   ]
  },
  {
   "cell_type": "code",
   "execution_count": 366,
   "metadata": {},
   "outputs": [],
   "source": [
    "def sig(x):\n",
    "    return 1/(1+np.exp(-x))"
   ]
  },
  {
   "cell_type": "code",
   "execution_count": 367,
   "metadata": {},
   "outputs": [
    {
     "name": "stdout",
     "output_type": "stream",
     "text": [
      "(3, 3287)\n",
      "Size of input layer: 3\n",
      "Size of output layer: 1\n",
      "Size of hidden units in each layer: 3\n",
      "No of hidden layers: 2\n"
     ]
    }
   ],
   "source": [
    "nx=np.min(np.shape(X))\n",
    "ny=np.min(np.shape(y))\n",
    "print(X.shape)\n",
    "nh=3\n",
    "nl=2\n",
    "print(\"Size of input layer: \"+str(nx))\n",
    "print(\"Size of output layer: \"+str(ny))\n",
    "print(\"Size of hidden units in each layer: \"+str(nh))\n",
    "print(\"No of hidden layers: \"+str(nl))\n"
   ]
  },
  {
   "cell_type": "code",
   "execution_count": 368,
   "metadata": {},
   "outputs": [],
   "source": [
    "def initialise_params(nx,nh,ny):\n",
    "    \n",
    "    nh1=nh\n",
    "    nh2=nh\n",
    "    W1=np.random.randn(nh1,nx)*0.01\n",
    "    b1=np.zeros((nh1,1))\n",
    "    W2=np.random.randn(nh2,nh1)*0.01\n",
    "    b2=np.zeros((nh2,1))\n",
    "    W3=np.random.randn(ny,nh2)*0.01\n",
    "    b3=np.zeros((ny,1))\n",
    "    \n",
    "    assert (W1.shape == (nh1, nx))\n",
    "    assert (b1.shape == (nh1, 1))\n",
    "    assert (W2.shape == (nh2, nh1))\n",
    "    assert (b2.shape == (nh2, 1))\n",
    "    assert (W3.shape == (ny, nh2))\n",
    "    assert (b3.shape == (ny, 1))\n",
    "    \n",
    "    \n",
    "    params={\"W1\":W1,\"b1\":b1,\"W2\":W2,\"b2\":b2,\"W3\":W3,\"b3\":b3}\n",
    "    \n",
    "    return params\n",
    "    "
   ]
  },
  {
   "cell_type": "code",
   "execution_count": 369,
   "metadata": {},
   "outputs": [],
   "source": [
    "params=initialise_params(nx,nh,ny)"
   ]
  },
  {
   "cell_type": "code",
   "execution_count": 370,
   "metadata": {},
   "outputs": [],
   "source": [
    "def forward_prop(X,params):\n",
    "    \n",
    "    W1=params[\"W1\"]\n",
    "    b1=params[\"b1\"]\n",
    "    W2=params[\"W2\"]\n",
    "    b2=params[\"b2\"]\n",
    "    W3=params[\"W3\"]\n",
    "    b3=params[\"b3\"]\n",
    "    \n",
    "    Z1=np.dot(W1,X)\n",
    "    A1=np.tanh(Z1)\n",
    "    Z2=np.dot(W2,A1)\n",
    "    A2=np.tanh(Z2)\n",
    "    Z3=np.dot(W3,A2)\n",
    "    A3=sig(Z3)\n",
    "    \n",
    "    cache={\"Z1\":Z1,\"A1\":A1,\"Z2\":Z2,\"A2\":A2,\"Z3\":Z3,\"A3\":A3}\n",
    "    \n",
    "    return A3,cache"
   ]
  },
  {
   "cell_type": "code",
   "execution_count": 371,
   "metadata": {},
   "outputs": [],
   "source": [
    "A3,cache=forward_prop(X,params)"
   ]
  },
  {
   "cell_type": "code",
   "execution_count": 372,
   "metadata": {},
   "outputs": [],
   "source": [
    "def compute_cost(y,A3):\n",
    "    \n",
    "    m=np.max(y.shape)\n",
    "        \n",
    "    c1=np.dot(y,(np.log(A3)).T)\n",
    "    c2=np.dot((1-y),(np.log(1-A3)).T)\n",
    "    cost = -((c1+c2)/m)\n",
    "    \n",
    "    cost = np.squeeze(cost) \n",
    "    return (np.sum(cost))"
   ]
  },
  {
   "cell_type": "code",
   "execution_count": 373,
   "metadata": {},
   "outputs": [
    {
     "name": "stdout",
     "output_type": "stream",
     "text": [
      "0.6931462450006023\n"
     ]
    }
   ],
   "source": [
    "cost=compute_cost(y,A3)\n",
    "print(cost)"
   ]
  },
  {
   "cell_type": "code",
   "execution_count": 374,
   "metadata": {},
   "outputs": [],
   "source": [
    "def back_prop(y,params,cache,X):\n",
    "    \n",
    "    W1=params[\"W1\"]\n",
    "    b1=params[\"b1\"]\n",
    "    W2=params[\"W2\"]\n",
    "    b2=params[\"b2\"]\n",
    "    W3=params[\"W3\"]\n",
    "    b3=params[\"b3\"]\n",
    "    \n",
    "    m=np.max(y.shape)\n",
    "    \n",
    "    A1=cache[\"A1\"]\n",
    "    A2=cache[\"A2\"]\n",
    "    A3=cache[\"A3\"]\n",
    "    \n",
    "    \n",
    "    dZ3 = A3-y\n",
    "    dW3 = np.dot(dZ3,A3.T)/m\n",
    "    db3 = np.sum(dZ3,axis=1,keepdims=True)/m\n",
    "    dZ2 = np.dot(W3.T,dZ3)*(1-np.power(A2,2))\n",
    "    dW2 = np.dot(dZ2,A2.T)/m\n",
    "    db2 = np.sum(dZ2,axis=1,keepdims=True)/m\n",
    "    dZ1 = np.dot(W2.T,dZ2)*(1-np.power(A1,2))\n",
    "    dW1 = np.dot(dZ1,X.T)/m\n",
    "    db1 = np.sum(dZ1,axis=1,keepdims=True)/m\n",
    "    \n",
    "    grads = {\"dW1\": dW1,\n",
    "             \"db1\": db1,\n",
    "             \"dW2\": dW2,\n",
    "             \"db2\": db2,\n",
    "             \"dW3\": dW3,\n",
    "             \"db3\": db3}\n",
    "    \n",
    "    return grads\n"
   ]
  },
  {
   "cell_type": "code",
   "execution_count": 375,
   "metadata": {},
   "outputs": [],
   "source": [
    "grads=back_prop(y,params,cache,X)"
   ]
  },
  {
   "cell_type": "code",
   "execution_count": 376,
   "metadata": {},
   "outputs": [],
   "source": [
    "def update_params(grads,params,learning_rate=1.2):\n",
    "    \n",
    "    W1 = params[\"W1\"]\n",
    "    b1 = params[\"b1\"]\n",
    "    W2 = params[\"W2\"]\n",
    "    b2 = params[\"b2\"]\n",
    "    W3 = params[\"W3\"]\n",
    "    b3 = params[\"b3\"]\n",
    "    \n",
    "    dW1 = grads[\"dW1\"]\n",
    "    db1 = grads[\"db1\"]\n",
    "    dW2 = grads[\"dW2\"]\n",
    "    db2 = grads[\"db2\"]\n",
    "    dW3 = grads[\"dW3\"]\n",
    "    db3 = grads[\"db3\"]\n",
    "    \n",
    "    \n",
    "    W1 = W1-(learning_rate*dW1)\n",
    "    b1 = b1-(learning_rate*db1)\n",
    "    W2 = W2-(learning_rate*dW2)\n",
    "    b2 = b2-(learning_rate*db2)\n",
    "    W3 = W3-(learning_rate*dW3)\n",
    "    b3 = b3-(learning_rate*db3)\n",
    "    \n",
    "    \n",
    "    params = {\"W1\": W1,\n",
    "                  \"b1\": b1,\n",
    "                  \"W2\": W2,\n",
    "                  \"b2\": b2,\"W3\":W3,\"b3\":b3\n",
    "                }\n",
    "    \n",
    "    return params\n",
    "    \n"
   ]
  },
  {
   "cell_type": "code",
   "execution_count": 377,
   "metadata": {},
   "outputs": [],
   "source": [
    "learning_rate=0.1\n",
    "params=update_params(grads,params,learning_rate)"
   ]
  },
  {
   "cell_type": "code",
   "execution_count": 378,
   "metadata": {},
   "outputs": [],
   "source": [
    "def nn_model(X,y,nh,num_of_iters=5000,print_cost=False):\n",
    "    \n",
    "    nx=np.min(X.shape)\n",
    "    ny=np.min(y.shape)\n",
    "    \n",
    "    parameters=initialise_params(nx,nh,ny)\n",
    "    \n",
    "    W1 = parameters[\"W1\"]\n",
    "    b1 = parameters[\"b1\"]\n",
    "    W2 = parameters[\"W2\"]\n",
    "    b2 = parameters[\"b2\"]\n",
    "    W3 = parameters[\"W3\"]\n",
    "    b3 = parameters[\"b3\"]\n",
    "    learning_rate=0.01\n",
    "    \n",
    "    for i in range(0,num_of_iters,1):\n",
    "        \n",
    "        A3,cache=forward_prop(X,parameters)\n",
    "        \n",
    "        cost=compute_cost(y,A3)\n",
    "        \n",
    "        grads=back_prop(y,parameters,cache,X)\n",
    "        \n",
    "        parameters=update_params(grads,parameters,learning_rate)\n",
    "        \n",
    "        if print_cost and i % 1000 == 0:\n",
    "            print (\"Cost after iteration %i: %f\" %(i, cost))\n",
    "        \n",
    "    return parameters"
   ]
  },
  {
   "cell_type": "code",
   "execution_count": 379,
   "metadata": {},
   "outputs": [
    {
     "name": "stdout",
     "output_type": "stream",
     "text": [
      "Cost after iteration 0: 0.693147\n",
      "Cost after iteration 1000: 0.692952\n",
      "Cost after iteration 2000: 0.690696\n",
      "Cost after iteration 3000: 0.474053\n",
      "Cost after iteration 4000: 0.253763\n"
     ]
    }
   ],
   "source": [
    "params=nn_model(X,y,nh,num_of_iters=5000,print_cost=True)"
   ]
  },
  {
   "cell_type": "code",
   "execution_count": 380,
   "metadata": {},
   "outputs": [],
   "source": [
    "def predict(X,params):\n",
    "    \n",
    "    A3, cache = forward_prop(X,params)\n",
    "    predictions = (A3>0.5)\n",
    "    \n",
    "    return predictions\n"
   ]
  },
  {
   "cell_type": "code",
   "execution_count": 381,
   "metadata": {},
   "outputs": [
    {
     "name": "stdout",
     "output_type": "stream",
     "text": [
      "predictions mean = 0.8414968055978096\n",
      "Accuracy: 85%\n"
     ]
    }
   ],
   "source": [
    "predictions = predict(X,params)\n",
    "print(\"predictions mean = \" + str(np.mean(predictions)))\n",
    "\n",
    "print ('Accuracy: %d' % float((np.dot(y,predictions.T) + np.dot(1-y,1-predictions.T))/float(y.size)*100) + '%')"
   ]
  },
  {
   "cell_type": "code",
   "execution_count": null,
   "metadata": {},
   "outputs": [
    {
     "name": "stdout",
     "output_type": "stream",
     "text": [
      "Accuracy for 3 hidden units: 84.69729236385763 %\n",
      "Accuracy for 4 hidden units: 85.57955582598113 %\n",
      "Accuracy for 5 hidden units: 85.57955582598113 %\n",
      "Accuracy for 20 hidden units: 86.21843626407059 %\n"
     ]
    }
   ],
   "source": [
    "hidden_layer_sizes = [3, 4, 5, 20, 22, 50]\n",
    "for i, nh in enumerate(hidden_layer_sizes):\n",
    "    parameters = nn_model(X, y, nh, num_of_iters = 5000)\n",
    "    predictions = predict(X,parameters)\n",
    "    accuracy = float((np.dot(y,predictions.T) + np.dot(1-y,1-predictions.T))/float(y.size)*100)\n",
    "    print (\"Accuracy for {} hidden units: {} %\".format(nh, accuracy))"
   ]
  },
  {
   "cell_type": "code",
   "execution_count": null,
   "metadata": {},
   "outputs": [],
   "source": []
  }
 ],
 "metadata": {
  "kernelspec": {
   "display_name": "Python 3",
   "language": "python",
   "name": "python3"
  },
  "language_info": {
   "codemirror_mode": {
    "name": "ipython",
    "version": 3
   },
   "file_extension": ".py",
   "mimetype": "text/x-python",
   "name": "python",
   "nbconvert_exporter": "python",
   "pygments_lexer": "ipython3",
   "version": "3.7.1"
  }
 },
 "nbformat": 4,
 "nbformat_minor": 2
}
