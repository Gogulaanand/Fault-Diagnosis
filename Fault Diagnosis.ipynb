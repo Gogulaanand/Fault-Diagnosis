{
 "cells": [
  {
   "cell_type": "code",
   "execution_count": 139,
   "metadata": {},
   "outputs": [],
   "source": [
    "import numpy as np\n",
    "import pandas as pd\n",
    "import math\n",
    "df=pd.read_csv('projdata.csv',encoding = \"utf-8\",engine='python',sep=\",\")\n"
   ]
  },
  {
   "cell_type": "code",
   "execution_count": 140,
   "metadata": {},
   "outputs": [
    {
     "name": "stderr",
     "output_type": "stream",
     "text": [
      "C:\\Users\\GOGULAANAND\\Anaconda3\\lib\\site-packages\\ipykernel_launcher.py:2: FutureWarning: Method .as_matrix will be removed in a future version. Use .values instead.\n",
      "  \n"
     ]
    }
   ],
   "source": [
    "y=np.array(df[['Fault']])\n",
    "X=df.as_matrix(columns=df.columns[1:])\n",
    "X=X.T\n",
    "y=y.T"
   ]
  },
  {
   "cell_type": "code",
   "execution_count": 141,
   "metadata": {},
   "outputs": [],
   "source": [
    "def sig(x):\n",
    "    return 1/(1+np.exp(-x))"
   ]
  },
  {
   "cell_type": "code",
   "execution_count": 142,
   "metadata": {},
   "outputs": [
    {
     "name": "stdout",
     "output_type": "stream",
     "text": [
      "(3, 3287)\n",
      "Size of input layer: 3\n",
      "Size of output layer: 1\n",
      "Size of hidden units in each layer: 3\n",
      "No of hidden layers: 1\n"
     ]
    }
   ],
   "source": [
    "nx=np.min(np.shape(X))\n",
    "ny=np.min(np.shape(y))\n",
    "print(X.shape)\n",
    "nh=3\n",
    "nl=1\n",
    "print(\"Size of input layer: \"+str(nx))\n",
    "print(\"Size of output layer: \"+str(ny))\n",
    "print(\"Size of hidden units in each layer: \"+str(nh))\n",
    "print(\"No of hidden layers: \"+str(nl))\n"
   ]
  },
  {
   "cell_type": "code",
   "execution_count": 143,
   "metadata": {},
   "outputs": [],
   "source": [
    "def initialise_params(nx,nh,ny):\n",
    "    \n",
    "    W1=np.random.rand(nh,nx)*0.01\n",
    "    b1=np.zeros((nh,1))\n",
    "    W2=np.random.rand(ny,nh)*0.01\n",
    "    b2=np.zeros((ny,1))\n",
    "    \n",
    "    assert (W1.shape == (nh, nx))\n",
    "    assert (b1.shape == (nh, 1))\n",
    "    assert (W2.shape == (ny, nh))\n",
    "    assert (b2.shape == (ny, 1))\n",
    "    \n",
    "    params={\"W1\":W1,\"b1\":b1,\"W2\":W2,\"b2\":b2}\n",
    "    \n",
    "    return params\n",
    "    "
   ]
  },
  {
   "cell_type": "code",
   "execution_count": 144,
   "metadata": {},
   "outputs": [],
   "source": [
    "params=initialise_params(nx,nh,ny)"
   ]
  },
  {
   "cell_type": "code",
   "execution_count": 145,
   "metadata": {},
   "outputs": [],
   "source": [
    "def forward_prop(X,params):\n",
    "    \n",
    "    W1=params[\"W1\"]\n",
    "    b1=params[\"b1\"]\n",
    "    W2=params[\"W2\"]\n",
    "    b2=params[\"b2\"]\n",
    "    \n",
    "    Z1=np.dot(W1,X)\n",
    "    A1=np.tanh(Z1)\n",
    "    Z2=np.dot(W2,A1)\n",
    "    A2=sig(Z2)\n",
    "    \n",
    "    cache={\"Z1\":Z1,\"A1\":A1,\"Z2\":Z2,\"A2\":A2}\n",
    "    \n",
    "    return A2,cache"
   ]
  },
  {
   "cell_type": "code",
   "execution_count": 146,
   "metadata": {},
   "outputs": [],
   "source": [
    "A2,cache=forward_prop(X,params)"
   ]
  },
  {
   "cell_type": "code",
   "execution_count": 147,
   "metadata": {},
   "outputs": [],
   "source": [
    "def compute_cost(y,A2):\n",
    "    \n",
    "    m=np.max(y.shape)\n",
    "        \n",
    "    c1=np.dot(y,(np.log(A2)).T)\n",
    "    c2=np.dot((1-y),(np.log(1-A2)).T)\n",
    "    cost = -((c1+c2)/m)\n",
    "    \n",
    "    cost = np.squeeze(cost) \n",
    "    return (np.sum(cost))"
   ]
  },
  {
   "cell_type": "code",
   "execution_count": 148,
   "metadata": {},
   "outputs": [
    {
     "name": "stdout",
     "output_type": "stream",
     "text": [
      "0.6931567926220462\n"
     ]
    }
   ],
   "source": [
    "cost=compute_cost(y,A2)\n",
    "print(cost)"
   ]
  },
  {
   "cell_type": "code",
   "execution_count": 149,
   "metadata": {},
   "outputs": [],
   "source": [
    "def back_prop(y,params,cache,X):\n",
    "    \n",
    "    W1=params[\"W1\"]\n",
    "    b1=params[\"b1\"]\n",
    "    W2=params[\"W2\"]\n",
    "    b2=params[\"b2\"]\n",
    "    \n",
    "    m=np.max(y.shape)\n",
    "    \n",
    "    A1=cache[\"A1\"]\n",
    "    A2=cache[\"A2\"]\n",
    "    \n",
    "    dZ2 = A2-y\n",
    "    dW2 = np.dot(dZ2,A1.T)/m\n",
    "    db2 = np.sum(dZ2,axis=1,keepdims=True)/m\n",
    "    dZ1 = np.dot(W2.T,dZ2)*(1-np.power(A1,2))\n",
    "    dW1 = np.dot(dZ1,X.T)/m\n",
    "    db1 = np.sum(dZ1,axis=1,keepdims=True)/m\n",
    "    \n",
    "    grads = {\"dW1\": dW1,\n",
    "             \"db1\": db1,\n",
    "             \"dW2\": dW2,\n",
    "             \"db2\": db2}\n",
    "    \n",
    "    return grads\n"
   ]
  },
  {
   "cell_type": "code",
   "execution_count": 150,
   "metadata": {},
   "outputs": [],
   "source": [
    "grads=back_prop(y,params,cache,X)"
   ]
  },
  {
   "cell_type": "code",
   "execution_count": 151,
   "metadata": {},
   "outputs": [],
   "source": [
    "def update_params(grads,params,learning_rate=1.2):\n",
    "    \n",
    "    W1 = params[\"W1\"]\n",
    "    b1 = params[\"b1\"]\n",
    "    W2 = params[\"W2\"]\n",
    "    b2 = params[\"b2\"]\n",
    "    \n",
    "    dW1 = grads[\"dW1\"]\n",
    "    db1 = grads[\"db1\"]\n",
    "    dW2 = grads[\"dW2\"]\n",
    "    db2 = grads[\"db2\"]\n",
    "    \n",
    "    W1 = W1-(learning_rate*dW1)\n",
    "    b1 = b1-(learning_rate*db1)\n",
    "    W2 = W2-(learning_rate*dW2)\n",
    "    b2 = b2-(learning_rate*db2)\n",
    "    \n",
    "    \n",
    "    params = {\"W1\": W1,\n",
    "                  \"b1\": b1,\n",
    "                  \"W2\": W2,\n",
    "                  \"b2\": b2}\n",
    "    \n",
    "    return params\n",
    "    \n"
   ]
  },
  {
   "cell_type": "code",
   "execution_count": 152,
   "metadata": {},
   "outputs": [],
   "source": [
    "learning_rate=0.2\n",
    "params=update_params(grads,params,learning_rate)"
   ]
  },
  {
   "cell_type": "code",
   "execution_count": 153,
   "metadata": {},
   "outputs": [],
   "source": [
    "def nn_model(X,y,nh,num_of_iters=100000,print_cost=False):\n",
    "    \n",
    "    nx=np.min(X.shape)\n",
    "    ny=np.min(y.shape)\n",
    "    \n",
    "    parameters=initialise_params(nx,nh,ny)\n",
    "    \n",
    "    W1 = parameters[\"W1\"]\n",
    "    b1 = parameters[\"b1\"]\n",
    "    W2 = parameters[\"W2\"]\n",
    "    b2 = parameters[\"b2\"]\n",
    "    \n",
    "    learning_rate=1.2\n",
    "    \n",
    "    for i in range(num_of_iters):\n",
    "        \n",
    "        A2,cache=forward_prop(X,parameters)\n",
    "        \n",
    "        cost=compute_cost(y,A2)\n",
    "        \n",
    "        grads=back_prop(y,parameters,cache,X)\n",
    "        \n",
    "        parameters=update_params(grads,parameters,learning_rate)\n",
    "        \n",
    "        if print_cost and i % 1000 == 0:\n",
    "            print (\"Cost after iteration %i: %f\" %(i, cost))\n",
    "        \n",
    "        return parameters"
   ]
  },
  {
   "cell_type": "code",
   "execution_count": 154,
   "metadata": {},
   "outputs": [
    {
     "name": "stdout",
     "output_type": "stream",
     "text": [
      "Cost after iteration 0: 0.693145\n"
     ]
    }
   ],
   "source": [
    "params=nn_model(X,y,nh,num_of_iters=10000,print_cost=True)"
   ]
  },
  {
   "cell_type": "code",
   "execution_count": 155,
   "metadata": {},
   "outputs": [],
   "source": [
    "def predict(X,params):\n",
    "    \n",
    "    A2, cache = forward_prop(X,params)\n",
    "    predictions = (A2>0.5)\n",
    "    \n",
    "    return predictions\n"
   ]
  },
  {
   "cell_type": "code",
   "execution_count": 156,
   "metadata": {},
   "outputs": [
    {
     "name": "stdout",
     "output_type": "stream",
     "text": [
      "predictions mean = 0.4998478856099787\n",
      "Accuracy: 50%\n"
     ]
    }
   ],
   "source": [
    "predictions = predict(X,params)\n",
    "print(\"predictions mean = \" + str(np.mean(predictions)))\n",
    "\n",
    "print ('Accuracy: %d' % float((np.dot(y,predictions.T) + np.dot(1-y,1-predictions.T))/float(y.size)*100) + '%')"
   ]
  },
  {
   "cell_type": "code",
   "execution_count": 157,
   "metadata": {},
   "outputs": [
    {
     "name": "stdout",
     "output_type": "stream",
     "text": [
      "Accuracy for 1 hidden units: 50.47155460906602 %\n",
      "Accuracy for 2 hidden units: 50.501977487070285 %\n",
      "Accuracy for 3 hidden units: 50.19774870702769 %\n",
      "Accuracy for 4 hidden units: 50.228171585031944 %\n",
      "Accuracy for 5 hidden units: 49.345908122908426 %\n",
      "Accuracy for 20 hidden units: 50.167325829023426 %\n",
      "Accuracy for 50 hidden units: 50.2585944630362 %\n"
     ]
    }
   ],
   "source": [
    "hidden_layer_sizes = [1, 2, 3, 4, 5, 20, 50]\n",
    "for i, nh in enumerate(hidden_layer_sizes):\n",
    "    parameters = nn_model(X, y, nh, num_of_iters = 5000)\n",
    "    predictions = predict(X,parameters)\n",
    "    accuracy = float((np.dot(y,predictions.T) + np.dot(1-y,1-predictions.T))/float(y.size)*100)\n",
    "    print (\"Accuracy for {} hidden units: {} %\".format(nh, accuracy))"
   ]
  },
  {
   "cell_type": "code",
   "execution_count": null,
   "metadata": {},
   "outputs": [],
   "source": []
  }
 ],
 "metadata": {
  "kernelspec": {
   "display_name": "Python 3",
   "language": "python",
   "name": "python3"
  },
  "language_info": {
   "codemirror_mode": {
    "name": "ipython",
    "version": 3
   },
   "file_extension": ".py",
   "mimetype": "text/x-python",
   "name": "python",
   "nbconvert_exporter": "python",
   "pygments_lexer": "ipython3",
   "version": "3.7.1"
  }
 },
 "nbformat": 4,
 "nbformat_minor": 2
}
